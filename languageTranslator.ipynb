{
  "cells": [
    {
      "cell_type": "markdown",
      "metadata": {
        "id": "zubHlfVdBqkH"
      },
      "source": [
        "# **Language Translator by SHIVI SHARMA**"
      ]
    },
    {
      "cell_type": "code",
      "execution_count": 1,
      "metadata": {
        "id": "lj8zKVFe5IT-"
      },
      "outputs": [],
      "source": [
        "!pip install -q gradio \n",
        "#Gradio is the fastest way to demo your machine learning model with a friendly web interface so that anyone can use it, anywhere!\n",
        "\n",
        "!pip install -q transformers\n",
        "#it introduces an encoder-decoder architecture based on attention layers\n",
        "#the input sequence can be passed parallelly so that GPU can be utilized effectively\n"
      ]
    },
    {
      "cell_type": "code",
      "execution_count": 2,
      "metadata": {
        "id": "LNoMxLS25qkS"
      },
      "outputs": [],
      "source": [
        "import gradio as gr\n",
        "\n",
        "from transformers import pipeline\n",
        "#A machine learning pipeline is a way to codify and automate the workflow it takes to produce a machine learning model. \n",
        "#Machine learning pipelines consist of multiple sequential steps that do everything from data extraction and preprocessing to model training and deployment."
      ]
    },
    {
      "cell_type": "markdown",
      "metadata": {
        "id": "P9itFpZSA_9A"
      },
      "source": [
        "*** TRANSLATION PIPELINE***"
      ]
    },
    {
      "cell_type": "code",
      "execution_count": 3,
      "metadata": {
        "colab": {
          "base_uri": "https://localhost:8080/"
        },
        "id": "3USWVw6-6nRK",
        "outputId": "60f884dd-cfcb-4505-c5f7-2aa5def0e5b3"
      },
      "outputs": [
        {
          "output_type": "stream",
          "name": "stderr",
          "text": [
            "No model was supplied, defaulted to t5-base (https://huggingface.co/t5-base)\n"
          ]
        }
      ],
      "source": [
        "translation_pipeline = pipeline(\"translation_en_to_fr\")"
      ]
    },
    {
      "cell_type": "code",
      "execution_count": 4,
      "metadata": {
        "id": "mXQ9myIx6tnI"
      },
      "outputs": [],
      "source": [
        "result = translation_pipeline(\"I like mathematics and computers\")"
      ]
    },
    {
      "cell_type": "code",
      "execution_count": 5,
      "metadata": {
        "colab": {
          "base_uri": "https://localhost:8080/",
          "height": 35
        },
        "id": "HVOOQBuH6vkb",
        "outputId": "ddad2297-b366-47e4-fd31-8394591d4076"
      },
      "outputs": [
        {
          "output_type": "execute_result",
          "data": {
            "application/vnd.google.colaboratory.intrinsic+json": {
              "type": "string"
            },
            "text/plain": [
              "\"J'aime les mathématiques et les ordinateurs\""
            ]
          },
          "metadata": {},
          "execution_count": 5
        }
      ],
      "source": [
        "result[0][\"translation_text\"]"
      ]
    },
    {
      "cell_type": "code",
      "execution_count": 6,
      "metadata": {
        "id": "ns4HvaAW6w5f"
      },
      "outputs": [],
      "source": [
        "def translate_gradio(input):\n",
        "    result = translation_pipeline(input)\n",
        "    return result[0]['translation_text']"
      ]
    },
    {
      "cell_type": "code",
      "execution_count": 7,
      "metadata": {
        "id": "HOlCeP7A629R"
      },
      "outputs": [],
      "source": [
        "translate_interface = gr.Interface(fn = translate_gradio,\n",
        "                                   inputs=\"text\",\n",
        "                                   outputs=\"text\")"
      ]
    },
    {
      "cell_type": "code",
      "execution_count": 8,
      "metadata": {
        "colab": {
          "base_uri": "https://localhost:8080/",
          "height": 643
        },
        "id": "iEIpYzaV64ya",
        "outputId": "cde3880f-6267-4252-bac7-0590c245581e"
      },
      "outputs": [
        {
          "output_type": "stream",
          "name": "stdout",
          "text": [
            "Colab notebook detected. To show errors in colab notebook, set `debug=True` in `launch()`\n",
            "Running on public URL: https://48868.gradio.app\n",
            "\n",
            "This share link will expire in 72 hours. To get longer links, send an email to: support@gradio.app\n"
          ]
        },
        {
          "output_type": "display_data",
          "data": {
            "text/html": [
              "\n",
              "        <iframe\n",
              "            width=\"900\"\n",
              "            height=\"500\"\n",
              "            src=\"https://48868.gradio.app\"\n",
              "            frameborder=\"0\"\n",
              "            allowfullscreen\n",
              "        ></iframe>\n",
              "        "
            ],
            "text/plain": [
              "<IPython.lib.display.IFrame at 0x7f8aadb58d50>"
            ]
          },
          "metadata": {}
        },
        {
          "output_type": "execute_result",
          "data": {
            "text/plain": [
              "(<Flask 'gradio.networking'>,\n",
              " 'http://127.0.0.1:7860/',\n",
              " 'https://48868.gradio.app')"
            ]
          },
          "metadata": {},
          "execution_count": 8
        }
      ],
      "source": [
        "translate_interface.launch()\n"
      ]
    },
    {
      "cell_type": "markdown",
      "metadata": {
        "id": "D6l6kTvLBF2Q"
      },
      "source": [
        "# **SENTIMENT ANALYSIS**"
      ]
    },
    {
      "cell_type": "code",
      "execution_count": 9,
      "metadata": {
        "colab": {
          "base_uri": "https://localhost:8080/"
        },
        "id": "ipT0w9DP-fvh",
        "outputId": "ccb3060f-a07c-4f10-faaa-ff8584f329df"
      },
      "outputs": [
        {
          "output_type": "stream",
          "name": "stderr",
          "text": [
            "No model was supplied, defaulted to distilbert-base-uncased-finetuned-sst-2-english (https://huggingface.co/distilbert-base-uncased-finetuned-sst-2-english)\n"
          ]
        }
      ],
      "source": [
        "senti_pipeline = pipeline(\"sentiment-analysis\")"
      ]
    },
    {
      "cell_type": "code",
      "execution_count": 10,
      "metadata": {
        "colab": {
          "base_uri": "https://localhost:8080/"
        },
        "id": "Buoir9Yu-ocP",
        "outputId": "a65a0615-868f-46d0-8db9-c66e0b9e8342"
      },
      "outputs": [
        {
          "output_type": "execute_result",
          "data": {
            "text/plain": [
              "[{'label': 'POSITIVE', 'score': 0.9998635053634644}]"
            ]
          },
          "metadata": {},
          "execution_count": 10
        }
      ],
      "source": [
        "senti_pipeline(\"I am extremely happy to share this video with all of you\")"
      ]
    },
    {
      "cell_type": "code",
      "execution_count": 11,
      "metadata": {
        "colab": {
          "base_uri": "https://localhost:8080/"
        },
        "id": "a61lEK2k-qQp",
        "outputId": "f6f32a90-3d76-427a-b62f-37bb80e50d42"
      },
      "outputs": [
        {
          "output_type": "execute_result",
          "data": {
            "text/plain": [
              "[{'label': 'NEGATIVE', 'score': 0.9981951117515564}]"
            ]
          },
          "metadata": {},
          "execution_count": 11
        }
      ],
      "source": [
        "senti_pipeline(\"I am sad that you haven't subscribed to my channel yet\")"
      ]
    },
    {
      "cell_type": "code",
      "execution_count": 13,
      "metadata": {
        "id": "2_2PcWNB_Zbu"
      },
      "outputs": [],
      "source": [
        "def sentiment_gradio(input):\n",
        "    result = senti_pipeline(input)\n",
        "    if result[0][\"label\"] == \"POSITIVE\":\n",
        "        pos_score = round(result[0][\"score\"], 2)\n",
        "        neg_score = 1 - pos_score\n",
        "    else:\n",
        "        neg_score = round(1*result[0][\"score\"], 2)\n",
        "        pos_score = 1 - neg_score\n",
        "\n",
        "    res = {'Positive': pos_score, 'Negative': neg_score}\n",
        "    return res"
      ]
    },
    {
      "cell_type": "code",
      "execution_count": 14,
      "metadata": {
        "id": "TdexUnsy_aq3"
      },
      "outputs": [],
      "source": [
        "sentiment_analysis_interface = gr.Interface(fn = sentiment_gradio,\n",
        "                                            inputs=\"text\",\n",
        "                                            outputs= gr.outputs.Label(num_top_classes=2),\n",
        "                                            interpretation=\"default\")"
      ]
    },
    {
      "cell_type": "code",
      "execution_count": null,
      "metadata": {
        "colab": {
          "base_uri": "https://localhost:8080/",
          "height": 591
        },
        "id": "nZyH-rI1_b0b",
        "outputId": "c007f2ba-253d-48cf-db86-474446fea885"
      },
      "outputs": [
        {
          "output_type": "stream",
          "name": "stdout",
          "text": [
            "Colab notebook detected. This cell will run indefinitely so that you can see errors and logs. To turn off, set debug=False in launch().\n",
            "Running on public URL: https://23724.gradio.app\n",
            "\n",
            "This share link will expire in 72 hours. To get longer links, send an email to: support@gradio.app\n"
          ]
        },
        {
          "output_type": "display_data",
          "data": {
            "text/html": [
              "\n",
              "        <iframe\n",
              "            width=\"900\"\n",
              "            height=\"500\"\n",
              "            src=\"https://23724.gradio.app\"\n",
              "            frameborder=\"0\"\n",
              "            allowfullscreen\n",
              "        ></iframe>\n",
              "        "
            ],
            "text/plain": [
              "<IPython.lib.display.IFrame at 0x7f8aad9a2c50>"
            ]
          },
          "metadata": {}
        }
      ],
      "source": [
        "sentiment_analysis_interface.launch(debug=True)"
      ]
    },
    {
      "cell_type": "code",
      "execution_count": null,
      "metadata": {
        "id": "skuGf5Xz_pGm"
      },
      "outputs": [],
      "source": [
        ""
      ]
    }
  ],
  "metadata": {
    "colab": {
      "name": "languageTranslator.ipynb",
      "provenance": []
    },
    "kernelspec": {
      "display_name": "Python 3",
      "name": "python3"
    },
    "language_info": {
      "name": "python"
    }
  },
  "nbformat": 4,
  "nbformat_minor": 0
}